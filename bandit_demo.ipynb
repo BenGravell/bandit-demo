{
 "cells": [
  {
   "cell_type": "markdown",
   "metadata": {},
   "source": [
    "# Multi-armed bandit demo\n",
    "Here we implement the following algorithms for solving multi-armed bandit problems:\n",
    "  * $\\epsilon$-greedy\n",
    "  * Upper confidence bound (UCB1)\n",
    "    * Created in \"Finite-time analysis of the multiarmed bandit problem\" by Auer, Cesa-Bianchi, and Fischer."
   ]
  },
  {
   "cell_type": "code",
   "execution_count": 3,
   "metadata": {},
   "outputs": [],
   "source": [
    "import numpy as np\n",
    "import numpy.random as npr\n",
    "import matplotlib.pyplot as plt"
   ]
  },
  {
   "cell_type": "code",
   "execution_count": 5,
   "metadata": {},
   "outputs": [],
   "source": [
    "k = 7\n",
    "s1 = npr.rand(k)/2\n",
    "s2 = (1+npr.rand(k))/2"
   ]
  },
  {
   "cell_type": "code",
   "execution_count": 21,
   "metadata": {},
   "outputs": [
    {
     "data": {
      "image/png": "[encoded data removed]",
      "text/plain": [
       "<Figure size 432x288 with 1 Axes>"
      ]
     },
     "metadata": {
      "needs_background": "light"
     },
     "output_type": "display_data"
    }
   ],
   "source": [
    "x = s1+(s2-s1)*np.linspace(0, 1)[:, None]\n",
    "bp = plt.boxplot(x, whis='range')\n",
    "plt.xlabel('Arm')\n",
    "plt.ylabel('Reward')\n",
    "plt.title('Bandit rewards')\n",
    "plt.show()"
   ]
  },
  {
   "cell_type": "code",
   "execution_count": 8,
   "metadata": {},
   "outputs": [
    {
     "name": "stdout",
     "output_type": "stream",
     "text": [
      "[0.05175771 0.31454695 0.07508422 0.16580289 0.22017079 0.27246511\n",
      " 0.2096771 ]\n",
      "[0.58431482 0.64888875 0.50139318 0.75300711 0.57990707 0.64855835\n",
      " 0.99221586]\n"
     ]
    }
   ],
   "source": [
    "print(s1)\n",
    "print(s2)"
   ]
  },
  {
   "cell_type": "code",
   "execution_count": null,
   "metadata": {},
   "outputs": [],
   "source": []
  }
 ],
 "metadata": {
  "kernelspec": {
   "display_name": "Python 3",
   "language": "python",
   "name": "python3"
  },
  "language_info": {
   "codemirror_mode": {
    "name": "ipython",
    "version": 3
   },
   "file_extension": ".py",
   "mimetype": "text/x-python",
   "name": "python",
   "nbconvert_exporter": "python",
   "pygments_lexer": "ipython3",
   "version": "3.7.5"
  }
 },
 "nbformat": 4,
 "nbformat_minor": 2
}
